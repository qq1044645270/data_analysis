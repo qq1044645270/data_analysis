{
 "cells": [
  {
   "cell_type": "markdown",
   "metadata": {},
   "source": [
    "# 商业数据分析实战（酒卷隆志/里洋平）——第六章案例 D—多元回归分析如何通过各种广告的组合获得更多的用户"
   ]
  },
  {
   "cell_type": "markdown",
   "metadata": {},
   "source": [
    "**投放广告最优化问题**  \n",
    "到目前为止我们已经在互联网上投放了《黑猫拼图》游戏的广告。但是为了获得更多的用户，我们决定也在传统媒体上（电视、杂志）上投放广告。基于过去其他游戏广告的数据，我们希望能够获得效果最好的广告投放方式，那么我们应该怎么做呢？"
   ]
  },
  {
   "cell_type": "markdown",
   "metadata": {},
   "source": [
    "[TOC]"
   ]
  },
  {
   "cell_type": "code",
   "execution_count": 1,
   "metadata": {
    "ExecuteTime": {
     "end_time": "2019-08-15T12:46:07.913485Z",
     "start_time": "2019-08-15T12:46:05.788154Z"
    }
   },
   "outputs": [],
   "source": [
    "# 加载python所需模块\n",
    "import pandas as pd\n",
    "from scipy.stats import chi2_contingency\n",
    "import pandasql\n",
    "import numpy as np #之后需要用到\n",
    "import seaborn as sns\n",
    "import matplotlib as mpl #设置环境变量\n",
    "import matplotlib.pyplot as plt #绘图专用\n",
    "import statsmodels.api as sm \n",
    "from statsmodels.stats.outliers_influence import summary_table\n",
    "from mpl_toolkits.mplot3d import Axes3D #绘制3D图\n",
    "mpl.rcParams['font.sans-serif'] = ['FangSong']\n",
    "mpl.rcParams['axes.unicode_minus']=False"
   ]
  },
  {
   "cell_type": "markdown",
   "metadata": {},
   "source": [
    "## 现状和预期"
   ]
  },
  {
   "cell_type": "markdown",
   "metadata": {},
   "source": [
    "### 互联网广告和传统媒体广告"
   ]
  },
  {
   "cell_type": "markdown",
   "metadata": {},
   "source": [
    "　　在互联网上投放广告，单价比较便宜，并且能够吸引到稳定的新注册用户。虽然互联网广告可以根据投入的成本预估效果，但相对于电视、杂志等传统媒体来说，它的受众数量是有限的，因此要想使用户达到一定数量，一般还是要在传统媒体上投放广告。然而，和互联网广告相比，传统媒体的广告成本要高得多。另外，如下图所示，根据广告投放媒体的属性不同，广告效果 CPI（Cost Per Install，获得一个新用户所需的成本）的变动也很大。"
   ]
  },
  {
   "cell_type": "markdown",
   "metadata": {},
   "source": [
    "![](https://img-blog.csdnimg.cn/20200622230029676.PNG?x-oss-process=image/watermark,type_ZmFuZ3poZW5naGVpdGk,shadow_10,text_aHR0cHM6Ly9ibG9nLmNzZG4ubmV0L0h1YW5YaWFuZzEyMzU=,size_16,color_FFFFFF,t_70#pic_center)"
   ]
  },
  {
   "cell_type": "markdown",
   "metadata": {},
   "source": [
    "### 整理现状和预期"
   ]
  },
  {
   "cell_type": "markdown",
   "metadata": {},
   "source": [
    "　　下面我们来整理一下现状和预期。首先，我们所面临的现状是广告效果 CPI 参差不齐。针对这种现状，在互联网广告方面，我们和 3 家公司保持着合作，而在传统媒体的电视和杂志上投放广告时，我们选择了一家广告公司进行合作。该广告公司建议我们，对于目前已合作的 10家左右的媒体，为了维持良好的合作关系，应避免连续 3 个月不投放广告的情况。根据这个建议，我们在各大传统媒体上都投放了广告。  \n",
    "　　这其中我们需要确定在电视和杂志上投放广告的合适比例（当然也可以让广告公司来替我们完成这项工作）。  \n",
    "　　总之，在本例中我们需要在已有合作关系的媒体中决定如何分配广告投放的比例，以达到“用较少的费用获得更多的用户”的目的。那么，基于现有的数据，我们需要弄清广告和获得用户数量之间的因果关系，并找出最合适的广告投放分配比例。下面我们先找出问题。  "
   ]
  },
  {
   "cell_type": "markdown",
   "metadata": {},
   "source": [
    "![](https://img-blog.csdnimg.cn/20200622230315886.PNG?x-oss-process=image/watermark,type_ZmFuZ3poZW5naGVpdGk,shadow_10,text_aHR0cHM6Ly9ibG9nLmNzZG4ubmV0L0h1YW5YaWFuZzEyMzU=,size_16,color_FFFFFF,t_70#pic_center)"
   ]
  },
  {
   "cell_type": "markdown",
   "metadata": {},
   "source": [
    "## 发现问题"
   ]
  },
  {
   "cell_type": "markdown",
   "metadata": {},
   "source": [
    "　　根据下图所示的广告 CPI 的变化可知，本例中的问题是每月广告CPI 的波动较大。另一方面，互联网广告每获得一个用户的成本大约在100 日元。但是，互联网广告的覆盖范围比较有限，那些不怎么接触互联网的用户，平时可能只是偶尔使用一下 Facebook 或者 LINE，对于这些用户，可以借助电视或者杂志等传统媒体提高他们对产品的认知度。  \n",
    "　　然而，和互联网广告不同，电视和杂志属于间接型媒体，从某个用户通过电视广告了解某个产品并产生兴趣，一直到该用户尝试购买这个产品，中间存在着一定的时间间隔。可能是受此影响，电视或者杂志广告的 CPI 高达几千日元。例如，如下图所示，传统媒体广告的月平均CPI 在 2282 日元到 2774 日元之间波动。  \n",
    "　　如果仅仅是看数值，读者可能会觉得月平均 CPI 的差距并不大。但由于每获得一个用户的成本都很高，因此我们要尽可能地缩小这 500 日元的差距，如果可能的话，应尽量确保 CPI 保持在 2282 日元左右。我们将本例中的问题细化如下。  \n",
    "　　**在传统媒体上的广告投放分配比例存在问题**\n",
    "　　**→ 每月在电视和杂志上投放广告的比例有所不同**  \n",
    "　　通过和广告部确认，我们了解到，虽然我们无法指定投放广告的电视或杂志媒体数量，但我们可以告诉广告公司分别投放在电视和杂志上的比率，因此  \n",
    "　　**1. 基于过去的数据，明确在电视和杂志上投放广告的广告费和各自所获得的用户数之间的关系**  \n",
    "　　**2. 基于上述关系，确定以何种比例在电视和杂志上投放广告**  \n",
    "　　至此，我们细化了问题，并确定了分析的步骤。那么，如何对电视和杂志的广告费与各自所获得的用户数之间的关系进行建模呢？"
   ]
  },
  {
   "cell_type": "markdown",
   "metadata": {},
   "source": [
    "![](https://img-blog.csdnimg.cn/20200622230407179.PNG?x-oss-process=image/watermark,type_ZmFuZ3poZW5naGVpdGk,shadow_10,text_aHR0cHM6Ly9ibG9nLmNzZG4ubmV0L0h1YW5YaWFuZzEyMzU=,size_16,color_FFFFFF,t_70#pic_center)"
   ]
  },
  {
   "cell_type": "markdown",
   "metadata": {},
   "source": [
    "### 多元回归模型的分析方法"
   ]
  },
  {
   "cell_type": "markdown",
   "metadata": {},
   "source": [
    "　　在前面的章节中，我们介绍了“交叉列表统计”“统计学假设检验”两种用于数据间关联性分析的方法。"
   ]
  },
  {
   "cell_type": "markdown",
   "metadata": {},
   "source": [
    "|原因|结果|\n",
    "|:-:|:-:|\n",
    "|大降价|销量大|\n",
    "|派发的传单多|来店的顾客多|\n",
    "|来店的顾客多|销售额大|"
   ]
  },
  {
   "cell_type": "markdown",
   "metadata": {},
   "source": [
    "　　如上表所述，通过明确各自的因果关系，可以判断诸如降价和销量之间是否存在关系。但是目前的分析仍然不能回答一些更具体的问题，例如“价格下降多少能够带来多大的销量增加”。在商业领域，通常的做法是在充分考虑成本的前提下预估一个结果，再采取相应的对策。也就是说，通常我们会先确定结果，再反过来考虑相应对策的成本。放在本次案例中，我们需要先构筑一个可以预估各广告媒体能带来的用户量的模型，再决定广告的投放方式。  \n",
    "　　此时就需要用到“回归分析 / 多元回归分析”。回归分析的思路非常简单，可以说是交叉列表统计的扩展。我们将数据描绘在图上，每个点表示一个数据，其中横坐标表示的变量称为自变量，纵坐标表示的变量称为因变量。然后我们在图上画出一条与这些数据点最为拟合的直线，根据这条直线上任何一点的横坐标（自变量）的值就可以得到纵坐标（因变量）的值，这就是线性回归分析。  \n",
    "　　例如，通过交叉列表统计，可以得知广告费花得越多，相应的新增用户就会越多。接下来我们就需要考虑能否对这种关系进行建模。具体来说，就是当我们知道了广告费用的预算之后，是否能够预估出由此可能带来的新用户数量。我们以下面左边的图为例来说明，图中的横轴表示广告费，纵轴表示新用户数。  "
   ]
  },
  {
   "cell_type": "markdown",
   "metadata": {},
   "source": [
    "![](https://img-blog.csdnimg.cn/20200622230447226.PNG?x-oss-process=image/watermark,type_ZmFuZ3poZW5naGVpdGk,shadow_10,text_aHR0cHM6Ly9ibG9nLmNzZG4ubmV0L0h1YW5YaWFuZzEyMzU=,size_16,color_FFFFFF,t_70#pic_center)"
   ]
  },
  {
   "cell_type": "markdown",
   "metadata": {},
   "source": [
    "　　如图所示，通过观察图中的所有数据，可以发现广告费和新用户数之间果然存在一定的关系。于是我们对此进行回归分析，并对这种关系建模，如右图所示。  \n",
    "　　图中的这条直线就是最简单的一种模型，该直线可以用下面的公式来表述。  \n",
    "　　新用户数 = β× 广告费 + α  \n",
    "　　回归分析就是根据现有的数据来估计 α 和 β 的值。根据从回归分析的结果得出的公式和各项指标，我们进行如下分析。  \n",
    "　　**● 原因数据真的会对结果数据产生影响吗广告费（自变量）的变化真的会对新用户数（因变量）产生影响吗**  \n",
    "　　**● 如果确实有影响，那么这是一种怎样的关系呢**  "
   ]
  },
  {
   "cell_type": "markdown",
   "metadata": {},
   "source": [
    "## 数据的收集"
   ]
  },
  {
   "cell_type": "markdown",
   "metadata": {},
   "source": [
    "### 探讨和收集分析所需的数据"
   ]
  },
  {
   "cell_type": "markdown",
   "metadata": {},
   "source": [
    "　　到目前为止，我们在互联网、电视和杂志 3 个广告媒体上开展了商业推广活动。使用过去实际的成果数据，我们就能够对各个广告媒体的效果进行分析。  \n",
    "　　在这 3 个广告媒体中，由于互联网广告的效果可以直接测定，因此哪个网站的广告有什么样的效果，其 CPI 很明确。然而，关于电视和杂志广告，我们只能获取总体的用户数增加了这类粗略的信息。因此，我们排除了互联网广告所带来的新用户，将剩余的新用户数和花费在电视以及杂志上的广告费作为分析用的数据。\n",
    "　　经和市场部确认得知，这些数据一直都在用 Excel 管理，因此我们只需将必要的数据存入 CSV 文件，再将其读入到分析软件中即可。"
   ]
  },
  {
   "cell_type": "markdown",
   "metadata": {},
   "source": [
    "**<center>《黑猫拼图》游戏在电视和杂志上投入的广告费和所获得的新用户数<center>**"
   ]
  },
  {
   "cell_type": "code",
   "execution_count": 2,
   "metadata": {
    "ExecuteTime": {
     "end_time": "2019-08-15T12:46:10.113651Z",
     "start_time": "2019-08-15T12:46:10.082730Z"
    }
   },
   "outputs": [
    {
     "data": {
      "text/html": [
       "<div>\n",
       "<style scoped>\n",
       "    .dataframe tbody tr th:only-of-type {\n",
       "        vertical-align: middle;\n",
       "    }\n",
       "\n",
       "    .dataframe tbody tr th {\n",
       "        vertical-align: top;\n",
       "    }\n",
       "\n",
       "    .dataframe thead th {\n",
       "        text-align: right;\n",
       "    }\n",
       "</style>\n",
       "<table border=\"1\" class=\"dataframe\">\n",
       "  <thead>\n",
       "    <tr style=\"text-align: right;\">\n",
       "      <th></th>\n",
       "      <th>月份</th>\n",
       "      <th>电视广告费</th>\n",
       "      <th>杂志广告费</th>\n",
       "      <th>新用户数</th>\n",
       "    </tr>\n",
       "  </thead>\n",
       "  <tbody>\n",
       "    <tr>\n",
       "      <th>0</th>\n",
       "      <td>2013-01</td>\n",
       "      <td>6358</td>\n",
       "      <td>5955</td>\n",
       "      <td>53948</td>\n",
       "    </tr>\n",
       "    <tr>\n",
       "      <th>1</th>\n",
       "      <td>2013-02</td>\n",
       "      <td>8176</td>\n",
       "      <td>6069</td>\n",
       "      <td>57300</td>\n",
       "    </tr>\n",
       "    <tr>\n",
       "      <th>2</th>\n",
       "      <td>2013-03</td>\n",
       "      <td>6853</td>\n",
       "      <td>5862</td>\n",
       "      <td>52057</td>\n",
       "    </tr>\n",
       "    <tr>\n",
       "      <th>3</th>\n",
       "      <td>2013-04</td>\n",
       "      <td>5271</td>\n",
       "      <td>5247</td>\n",
       "      <td>44044</td>\n",
       "    </tr>\n",
       "    <tr>\n",
       "      <th>4</th>\n",
       "      <td>2013-05</td>\n",
       "      <td>6473</td>\n",
       "      <td>6365</td>\n",
       "      <td>54063</td>\n",
       "    </tr>\n",
       "    <tr>\n",
       "      <th>5</th>\n",
       "      <td>2013-06</td>\n",
       "      <td>7682</td>\n",
       "      <td>6555</td>\n",
       "      <td>58097</td>\n",
       "    </tr>\n",
       "    <tr>\n",
       "      <th>6</th>\n",
       "      <td>2013-07</td>\n",
       "      <td>5666</td>\n",
       "      <td>5546</td>\n",
       "      <td>47407</td>\n",
       "    </tr>\n",
       "    <tr>\n",
       "      <th>7</th>\n",
       "      <td>2013-08</td>\n",
       "      <td>6659</td>\n",
       "      <td>6066</td>\n",
       "      <td>53333</td>\n",
       "    </tr>\n",
       "    <tr>\n",
       "      <th>8</th>\n",
       "      <td>2013-09</td>\n",
       "      <td>6066</td>\n",
       "      <td>5646</td>\n",
       "      <td>49918</td>\n",
       "    </tr>\n",
       "    <tr>\n",
       "      <th>9</th>\n",
       "      <td>2013-10</td>\n",
       "      <td>10090</td>\n",
       "      <td>6545</td>\n",
       "      <td>59963</td>\n",
       "    </tr>\n",
       "  </tbody>\n",
       "</table>\n",
       "</div>"
      ],
      "text/plain": [
       "        月份  电视广告费  杂志广告费   新用户数\n",
       "0  2013-01   6358   5955  53948\n",
       "1  2013-02   8176   6069  57300\n",
       "2  2013-03   6853   5862  52057\n",
       "3  2013-04   5271   5247  44044\n",
       "4  2013-05   6473   6365  54063\n",
       "5  2013-06   7682   6555  58097\n",
       "6  2013-07   5666   5546  47407\n",
       "7  2013-08   6659   6066  53333\n",
       "8  2013-09   6066   5646  49918\n",
       "9  2013-10  10090   6545  59963"
      ]
     },
     "execution_count": 2,
     "metadata": {},
     "output_type": "execute_result"
    }
   ],
   "source": [
    "data = pd.read_csv('../../data/ad_result.csv')\n",
    "data = data.rename(columns={'month':'月份',\n",
    "                           'tvcm':'电视广告费',\n",
    "                           'magazine':'杂志广告费',\n",
    "                           'install':'新用户数',})\n",
    "data.head(10)"
   ]
  },
  {
   "cell_type": "markdown",
   "metadata": {},
   "source": [
    "## 数据分析"
   ]
  },
  {
   "cell_type": "markdown",
   "metadata": {},
   "source": [
    "　　首先，我们需要确认广告和新用户数之间是否存在关系。如果二者之间的关系不那么强，就不能断言用户数量的增加是由广告带来的。我们将数据之间的关系的强弱称为“相关性”。为了确认这种相关性，一般来说首先需要观察数据的散点图。"
   ]
  },
  {
   "cell_type": "markdown",
   "metadata": {},
   "source": [
    "### 电视、杂志的广告费和新用户数的散点图"
   ]
  },
  {
   "cell_type": "code",
   "execution_count": 3,
   "metadata": {
    "ExecuteTime": {
     "end_time": "2019-08-15T14:09:41.888812Z",
     "start_time": "2019-08-15T14:09:41.876844Z"
    }
   },
   "outputs": [
    {
     "name": "stderr",
     "output_type": "stream",
     "text": [
      "D:\\programs\\Anaconda3\\envs\\python3.6.5\\lib\\site-packages\\pyecharts\\charts\\chart.py:14: PendingDeprecationWarning: pyecharts 所有图表类型将在 v1.9.0 版本开始强制使用 ChartItem 进行数据项配置 :)\n",
      "  super().__init__(init_opts=init_opts)\n",
      "D:\\programs\\Anaconda3\\envs\\python3.6.5\\lib\\site-packages\\pyecharts\\charts\\chart.py:14: PendingDeprecationWarning: pyecharts 所有图表类型将在 v1.9.0 版本开始强制使用 ChartItem 进行数据项配置 :)\n",
      "  super().__init__(init_opts=init_opts)\n",
      "D:\\programs\\Anaconda3\\envs\\python3.6.5\\lib\\site-packages\\pyecharts\\charts\\composite_charts\\grid.py:17: PendingDeprecationWarning: pyecharts 所有图表类型将在 v1.9.0 版本开始强制使用 ChartItem 进行数据项配置 :)\n",
      "  super().__init__(init_opts=init_opts)\n"
     ]
    },
    {
     "data": {
      "text/html": [
       "\n",
       "<script>\n",
       "    require.config({\n",
       "        paths: {\n",
       "            'echarts':'https://assets.pyecharts.org/assets/echarts.min'\n",
       "        }\n",
       "    });\n",
       "</script>\n",
       "\n",
       "        <div id=\"630536500da249ab98ce1ce7345d5b44\" style=\"width:1300px; height:600px;\"></div>\n",
       "\n",
       "<script>\n",
       "        require(['echarts'], function(echarts) {\n",
       "                var chart_630536500da249ab98ce1ce7345d5b44 = echarts.init(\n",
       "                    document.getElementById('630536500da249ab98ce1ce7345d5b44'), 'white', {renderer: 'canvas'});\n",
       "                var option_630536500da249ab98ce1ce7345d5b44 = {\n",
       "    \"animation\": true,\n",
       "    \"animationThreshold\": 2000,\n",
       "    \"animationDuration\": 1000,\n",
       "    \"animationEasing\": \"cubicOut\",\n",
       "    \"animationDelay\": 0,\n",
       "    \"animationDurationUpdate\": 300,\n",
       "    \"animationEasingUpdate\": \"cubicOut\",\n",
       "    \"animationDelayUpdate\": 0,\n",
       "    \"color\": [\n",
       "        \"#c23531\",\n",
       "        \"#2f4554\",\n",
       "        \"#61a0a8\",\n",
       "        \"#d48265\",\n",
       "        \"#749f83\",\n",
       "        \"#ca8622\",\n",
       "        \"#bda29a\",\n",
       "        \"#6e7074\",\n",
       "        \"#546570\",\n",
       "        \"#c4ccd3\",\n",
       "        \"#f05b72\",\n",
       "        \"#ef5b9c\",\n",
       "        \"#f47920\",\n",
       "        \"#905a3d\",\n",
       "        \"#fab27b\",\n",
       "        \"#2a5caa\",\n",
       "        \"#444693\",\n",
       "        \"#726930\",\n",
       "        \"#b2d235\",\n",
       "        \"#6d8346\",\n",
       "        \"#ac6767\",\n",
       "        \"#1d953f\",\n",
       "        \"#6950a1\",\n",
       "        \"#918597\"\n",
       "    ],\n",
       "    \"series\": [\n",
       "        {\n",
       "            \"type\": \"scatter\",\n",
       "            \"xAxisIndex\": 0,\n",
       "            \"yAxisIndex\": 0,\n",
       "            \"symbolSize\": 10,\n",
       "            \"data\": [\n",
       "                [\n",
       "                    6358,\n",
       "                    53948\n",
       "                ],\n",
       "                [\n",
       "                    8176,\n",
       "                    57300\n",
       "                ],\n",
       "                [\n",
       "                    6853,\n",
       "                    52057\n",
       "                ],\n",
       "                [\n",
       "                    5271,\n",
       "                    44044\n",
       "                ],\n",
       "                [\n",
       "                    6473,\n",
       "                    54063\n",
       "                ],\n",
       "                [\n",
       "                    7682,\n",
       "                    58097\n",
       "                ],\n",
       "                [\n",
       "                    5666,\n",
       "                    47407\n",
       "                ],\n",
       "                [\n",
       "                    6659,\n",
       "                    53333\n",
       "                ],\n",
       "                [\n",
       "                    6066,\n",
       "                    49918\n",
       "                ],\n",
       "                [\n",
       "                    10090,\n",
       "                    59963\n",
       "                ]\n",
       "            ],\n",
       "            \"label\": {\n",
       "                \"show\": true,\n",
       "                \"position\": \"right\",\n",
       "                \"margin\": 8\n",
       "            }\n",
       "        },\n",
       "        {\n",
       "            \"type\": \"scatter\",\n",
       "            \"xAxisIndex\": 1,\n",
       "            \"yAxisIndex\": 1,\n",
       "            \"symbolSize\": 10,\n",
       "            \"data\": [\n",
       "                [\n",
       "                    5955,\n",
       "                    53948\n",
       "                ],\n",
       "                [\n",
       "                    6069,\n",
       "                    57300\n",
       "                ],\n",
       "                [\n",
       "                    5862,\n",
       "                    52057\n",
       "                ],\n",
       "                [\n",
       "                    5247,\n",
       "                    44044\n",
       "                ],\n",
       "                [\n",
       "                    6365,\n",
       "                    54063\n",
       "                ],\n",
       "                [\n",
       "                    6555,\n",
       "                    58097\n",
       "                ],\n",
       "                [\n",
       "                    5546,\n",
       "                    47407\n",
       "                ],\n",
       "                [\n",
       "                    6066,\n",
       "                    53333\n",
       "                ],\n",
       "                [\n",
       "                    5646,\n",
       "                    49918\n",
       "                ],\n",
       "                [\n",
       "                    6545,\n",
       "                    59963\n",
       "                ]\n",
       "            ],\n",
       "            \"label\": {\n",
       "                \"show\": true,\n",
       "                \"position\": \"right\",\n",
       "                \"margin\": 8\n",
       "            }\n",
       "        }\n",
       "    ],\n",
       "    \"legend\": [\n",
       "        {\n",
       "            \"data\": [\n",
       "                \"\"\n",
       "            ],\n",
       "            \"selected\": {\n",
       "                \"\": true\n",
       "            },\n",
       "            \"show\": true,\n",
       "            \"padding\": 5,\n",
       "            \"itemGap\": 10,\n",
       "            \"itemWidth\": 25,\n",
       "            \"itemHeight\": 14\n",
       "        },\n",
       "        {\n",
       "            \"data\": [\n",
       "                \"\"\n",
       "            ],\n",
       "            \"selected\": {\n",
       "                \"\": true\n",
       "            },\n",
       "            \"show\": true,\n",
       "            \"padding\": 5,\n",
       "            \"itemGap\": 10,\n",
       "            \"itemWidth\": 25,\n",
       "            \"itemHeight\": 14\n",
       "        }\n",
       "    ],\n",
       "    \"tooltip\": {\n",
       "        \"show\": true,\n",
       "        \"trigger\": \"item\",\n",
       "        \"triggerOn\": \"mousemove|click\",\n",
       "        \"axisPointer\": {\n",
       "            \"type\": \"line\"\n",
       "        },\n",
       "        \"showContent\": true,\n",
       "        \"alwaysShowContent\": false,\n",
       "        \"showDelay\": 0,\n",
       "        \"hideDelay\": 100,\n",
       "        \"textStyle\": {\n",
       "            \"fontSize\": 14\n",
       "        },\n",
       "        \"borderWidth\": 0,\n",
       "        \"padding\": 5\n",
       "    },\n",
       "    \"xAxis\": [\n",
       "        {\n",
       "            \"name\": \"\\u7535\\u89c6\\u5e7f\\u544a\\u8d39\",\n",
       "            \"show\": true,\n",
       "            \"scale\": false,\n",
       "            \"nameLocation\": \"end\",\n",
       "            \"nameGap\": 15,\n",
       "            \"gridIndex\": 0,\n",
       "            \"inverse\": false,\n",
       "            \"offset\": 0,\n",
       "            \"splitNumber\": 5,\n",
       "            \"min\": 5000,\n",
       "            \"max\": 10000,\n",
       "            \"minInterval\": 0,\n",
       "            \"splitLine\": {\n",
       "                \"show\": false,\n",
       "                \"lineStyle\": {\n",
       "                    \"show\": true,\n",
       "                    \"width\": 1,\n",
       "                    \"opacity\": 1,\n",
       "                    \"curveness\": 0,\n",
       "                    \"type\": \"solid\"\n",
       "                }\n",
       "            },\n",
       "            \"data\": null\n",
       "        },\n",
       "        {\n",
       "            \"name\": \"\\u6742\\u5fd7\\u5e7f\\u544a\\u8d39\",\n",
       "            \"show\": true,\n",
       "            \"scale\": false,\n",
       "            \"nameLocation\": \"end\",\n",
       "            \"nameGap\": 15,\n",
       "            \"gridIndex\": 1,\n",
       "            \"inverse\": false,\n",
       "            \"offset\": 0,\n",
       "            \"splitNumber\": 5,\n",
       "            \"min\": 5000,\n",
       "            \"max\": 7000,\n",
       "            \"minInterval\": 0,\n",
       "            \"splitLine\": {\n",
       "                \"show\": false,\n",
       "                \"lineStyle\": {\n",
       "                    \"show\": true,\n",
       "                    \"width\": 1,\n",
       "                    \"opacity\": 1,\n",
       "                    \"curveness\": 0,\n",
       "                    \"type\": \"solid\"\n",
       "                }\n",
       "            },\n",
       "            \"data\": null\n",
       "        }\n",
       "    ],\n",
       "    \"yAxis\": [\n",
       "        {\n",
       "            \"name\": \"\\u65b0\\u7528\\u6237\\u6570\",\n",
       "            \"show\": true,\n",
       "            \"scale\": false,\n",
       "            \"nameLocation\": \"end\",\n",
       "            \"nameGap\": 15,\n",
       "            \"gridIndex\": 0,\n",
       "            \"inverse\": false,\n",
       "            \"offset\": 0,\n",
       "            \"splitNumber\": 5,\n",
       "            \"min\": 41000,\n",
       "            \"max\": 60000,\n",
       "            \"minInterval\": 0,\n",
       "            \"splitLine\": {\n",
       "                \"show\": false,\n",
       "                \"lineStyle\": {\n",
       "                    \"show\": true,\n",
       "                    \"width\": 1,\n",
       "                    \"opacity\": 1,\n",
       "                    \"curveness\": 0,\n",
       "                    \"type\": \"solid\"\n",
       "                }\n",
       "            }\n",
       "        },\n",
       "        {\n",
       "            \"name\": \"\\u65b0\\u7528\\u6237\\u6570\",\n",
       "            \"show\": true,\n",
       "            \"scale\": false,\n",
       "            \"nameLocation\": \"end\",\n",
       "            \"nameGap\": 15,\n",
       "            \"gridIndex\": 1,\n",
       "            \"inverse\": false,\n",
       "            \"offset\": 0,\n",
       "            \"splitNumber\": 5,\n",
       "            \"min\": 41000,\n",
       "            \"max\": 60000,\n",
       "            \"minInterval\": 0,\n",
       "            \"splitLine\": {\n",
       "                \"show\": false,\n",
       "                \"lineStyle\": {\n",
       "                    \"show\": true,\n",
       "                    \"width\": 1,\n",
       "                    \"opacity\": 1,\n",
       "                    \"curveness\": 0,\n",
       "                    \"type\": \"solid\"\n",
       "                }\n",
       "            }\n",
       "        }\n",
       "    ],\n",
       "    \"title\": [\n",
       "        {\n",
       "            \"text\": \"\\u7535\\u89c6\\u5e7f\\u544a\\u8d39\\u548c\\u65b0\\u7528\\u6237\\u6570\",\n",
       "            \"padding\": 5,\n",
       "            \"itemGap\": 10\n",
       "        },\n",
       "        {\n",
       "            \"text\": \"\\u6742\\u5fd7\\u5e7f\\u544a\\u8d39\\u548c\\u65b0\\u7528\\u6237\\u6570\",\n",
       "            \"right\": \"5%\",\n",
       "            \"padding\": 5,\n",
       "            \"itemGap\": 10\n",
       "        }\n",
       "    ],\n",
       "    \"toolbox\": {\n",
       "        \"show\": true,\n",
       "        \"orient\": \"vertical\",\n",
       "        \"itemSize\": 15,\n",
       "        \"itemGap\": 10,\n",
       "        \"left\": 0,\n",
       "        \"top\": \"50%\",\n",
       "        \"feature\": {\n",
       "            \"saveAsImage\": {\n",
       "                \"type\": \"png\",\n",
       "                \"backgroundColor\": \"auto\",\n",
       "                \"connectedBackgroundColor\": \"#fff\",\n",
       "                \"show\": true,\n",
       "                \"title\": \"\\u4fdd\\u5b58\\u4e3a\\u56fe\\u7247\",\n",
       "                \"pixelRatio\": 1\n",
       "            },\n",
       "            \"restore\": {\n",
       "                \"show\": true,\n",
       "                \"title\": \"\\u8fd8\\u539f\"\n",
       "            },\n",
       "            \"dataView\": {\n",
       "                \"show\": true,\n",
       "                \"title\": \"\\u6570\\u636e\\u89c6\\u56fe\",\n",
       "                \"readOnly\": false,\n",
       "                \"lang\": [\n",
       "                    \"\\u6570\\u636e\\u89c6\\u56fe\",\n",
       "                    \"\\u5173\\u95ed\",\n",
       "                    \"\\u5237\\u65b0\"\n",
       "                ],\n",
       "                \"backgroundColor\": \"#fff\",\n",
       "                \"textareaColor\": \"#fff\",\n",
       "                \"textareaBorderColor\": \"#333\",\n",
       "                \"textColor\": \"#000\",\n",
       "                \"buttonColor\": \"#c23531\",\n",
       "                \"buttonTextColor\": \"#fff\"\n",
       "            },\n",
       "            \"dataZoom\": {\n",
       "                \"show\": true,\n",
       "                \"title\": {\n",
       "                    \"zoom\": \"\\u533a\\u57df\\u7f29\\u653e\",\n",
       "                    \"back\": \"\\u533a\\u57df\\u7f29\\u653e\\u8fd8\\u539f\"\n",
       "                },\n",
       "                \"icon\": {},\n",
       "                \"xAxisIndex\": false,\n",
       "                \"yAxisIndex\": false,\n",
       "                \"filterMode\": \"filter\"\n",
       "            },\n",
       "            \"magicType\": {\n",
       "                \"show\": true,\n",
       "                \"type\": [\n",
       "                    \"line\",\n",
       "                    \"bar\",\n",
       "                    \"stack\",\n",
       "                    \"tiled\"\n",
       "                ],\n",
       "                \"title\": {\n",
       "                    \"line\": \"\\u5207\\u6362\\u4e3a\\u6298\\u7ebf\\u56fe\",\n",
       "                    \"bar\": \"\\u5207\\u6362\\u4e3a\\u67f1\\u72b6\\u56fe\",\n",
       "                    \"stack\": \"\\u5207\\u6362\\u4e3a\\u5806\\u53e0\",\n",
       "                    \"tiled\": \"\\u5207\\u6362\\u4e3a\\u5e73\\u94fa\"\n",
       "                },\n",
       "                \"icon\": {}\n",
       "            },\n",
       "            \"brush\": {\n",
       "                \"icon\": {},\n",
       "                \"title\": {\n",
       "                    \"rect\": \"\\u77e9\\u5f62\\u9009\\u62e9\",\n",
       "                    \"polygon\": \"\\u5708\\u9009\",\n",
       "                    \"lineX\": \"\\u6a2a\\u5411\\u9009\\u62e9\",\n",
       "                    \"lineY\": \"\\u7eb5\\u5411\\u9009\\u62e9\",\n",
       "                    \"keep\": \"\\u4fdd\\u6301\\u9009\\u62e9\",\n",
       "                    \"clear\": \"\\u6e05\\u9664\\u9009\\u62e9\"\n",
       "                }\n",
       "            }\n",
       "        }\n",
       "    },\n",
       "    \"grid\": [\n",
       "        {\n",
       "            \"show\": false,\n",
       "            \"zlevel\": 0,\n",
       "            \"z\": 2,\n",
       "            \"left\": \"60%\",\n",
       "            \"containLabel\": false,\n",
       "            \"backgroundColor\": \"transparent\",\n",
       "            \"borderColor\": \"#ccc\",\n",
       "            \"borderWidth\": 1\n",
       "        },\n",
       "        {\n",
       "            \"show\": false,\n",
       "            \"zlevel\": 0,\n",
       "            \"z\": 2,\n",
       "            \"right\": \"60%\",\n",
       "            \"containLabel\": false,\n",
       "            \"backgroundColor\": \"transparent\",\n",
       "            \"borderColor\": \"#ccc\",\n",
       "            \"borderWidth\": 1\n",
       "        }\n",
       "    ]\n",
       "};\n",
       "                chart_630536500da249ab98ce1ce7345d5b44.setOption(option_630536500da249ab98ce1ce7345d5b44);\n",
       "        });\n",
       "    </script>\n"
      ],
      "text/plain": [
       "<pyecharts.render.display.HTML at 0x18e8b9f5da0>"
      ]
     },
     "execution_count": 3,
     "metadata": {},
     "output_type": "execute_result"
    }
   ],
   "source": [
    "# pip install pyecharts   pip install pyecharts_snapshot\n",
    "from pyecharts import options as opts\n",
    "from pyecharts.charts import Scatter, Grid\n",
    "\n",
    "scatter1 = (\n",
    "    Scatter()\n",
    "    .add_xaxis(data['电视广告费'])\n",
    "    .add_yaxis(\"\", data['新用户数'])\n",
    "    .set_global_opts(title_opts=opts.TitleOpts(title=\"电视广告费和新用户数\"),\n",
    "                     toolbox_opts=opts.ToolboxOpts(orient='vertical',pos_left=0,pos_top='50%'),\n",
    "                     xaxis_opts=opts.AxisOpts(\n",
    "                         name='电视广告费', min_=5000, max_=10000),\n",
    "                     yaxis_opts=opts.AxisOpts(\n",
    "                         name='新用户数', min_=41000, max_=60000))\n",
    ")\n",
    "scatter2 = (\n",
    "    Scatter()\n",
    "    .add_xaxis(data['杂志广告费'])\n",
    "    .add_yaxis(\"\", data['新用户数'])\n",
    "    .set_global_opts(title_opts=opts.TitleOpts(title=\"杂志广告费和新用户数\",pos_right='5%'),\n",
    "                     xaxis_opts=opts.AxisOpts(\n",
    "                         name='杂志广告费', min_=5000, max_=7000),\n",
    "                     yaxis_opts=opts.AxisOpts(\n",
    "                         name='新用户数', min_=41000, max_=60000))\n",
    ")\n",
    "grid = (\n",
    "    Grid(init_opts=opts.InitOpts(width='1300px', height='600px'))\n",
    "    .add(scatter1, grid_opts=opts.GridOpts(pos_left=\"60%\"))\n",
    "    .add(scatter2, grid_opts=opts.GridOpts(pos_right=\"60%\"))\n",
    ")\n",
    "grid.render_notebook()"
   ]
  },
  {
   "cell_type": "markdown",
   "metadata": {},
   "source": [
    "　　无论是电视广告还是杂志广告，从散点图来看，随着投入的广告费用的增加，新获得的用户数也会增加，反应在图上就是数据点不断地向右上方延伸。既然明确了广告费和新用户数之间存在关系，下面我们就来着手进行回归分析。"
   ]
  },
  {
   "cell_type": "markdown",
   "metadata": {},
   "source": [
    "### 进行多元回归分析"
   ]
  },
  {
   "cell_type": "code",
   "execution_count": 4,
   "metadata": {},
   "outputs": [
    {
     "name": "stderr",
     "output_type": "stream",
     "text": [
      "D:\\programs\\Anaconda3\\envs\\python3.6.5\\lib\\site-packages\\scipy\\stats\\stats.py:1604: UserWarning: kurtosistest only valid for n>=20 ... continuing anyway, n=10\n",
      "  \"anyway, n=%i\" % int(n))\n"
     ]
    },
    {
     "data": {
      "text/html": [
       "<table class=\"simpletable\">\n",
       "<caption>OLS Regression Results</caption>\n",
       "<tr>\n",
       "  <th>Dep. Variable:</th>          <td>新用户数</td>       <th>  R-squared:         </th> <td>   0.938</td>\n",
       "</tr>\n",
       "<tr>\n",
       "  <th>Model:</th>                   <td>OLS</td>       <th>  Adj. R-squared:    </th> <td>   0.920</td>\n",
       "</tr>\n",
       "<tr>\n",
       "  <th>Method:</th>             <td>Least Squares</td>  <th>  F-statistic:       </th> <td>   52.86</td>\n",
       "</tr>\n",
       "<tr>\n",
       "  <th>Date:</th>             <td>Mon, 22 Jun 2020</td> <th>  Prob (F-statistic):</th> <td>5.97e-05</td>\n",
       "</tr>\n",
       "<tr>\n",
       "  <th>Time:</th>                 <td>22:31:50</td>     <th>  Log-Likelihood:    </th> <td> -84.758</td>\n",
       "</tr>\n",
       "<tr>\n",
       "  <th>No. Observations:</th>      <td>    10</td>      <th>  AIC:               </th> <td>   175.5</td>\n",
       "</tr>\n",
       "<tr>\n",
       "  <th>Df Residuals:</th>          <td>     7</td>      <th>  BIC:               </th> <td>   176.4</td>\n",
       "</tr>\n",
       "<tr>\n",
       "  <th>Df Model:</th>              <td>     2</td>      <th>                     </th>     <td> </td>   \n",
       "</tr>\n",
       "<tr>\n",
       "  <th>Covariance Type:</th>      <td>nonrobust</td>    <th>                     </th>     <td> </td>   \n",
       "</tr>\n",
       "</table>\n",
       "<table class=\"simpletable\">\n",
       "<tr>\n",
       "    <td></td>       <th>coef</th>     <th>std err</th>      <th>t</th>      <th>P>|t|</th>  <th>[0.025</th>    <th>0.975]</th>  \n",
       "</tr>\n",
       "<tr>\n",
       "  <th>const</th> <td>  188.1743</td> <td> 7719.131</td> <td>    0.024</td> <td> 0.981</td> <td>-1.81e+04</td> <td> 1.84e+04</td>\n",
       "</tr>\n",
       "<tr>\n",
       "  <th>电视广告费</th> <td>    1.3609</td> <td>    0.517</td> <td>    2.630</td> <td> 0.034</td> <td>    0.137</td> <td>    2.584</td>\n",
       "</tr>\n",
       "<tr>\n",
       "  <th>杂志广告费</th> <td>    7.2498</td> <td>    1.693</td> <td>    4.283</td> <td> 0.004</td> <td>    3.247</td> <td>   11.252</td>\n",
       "</tr>\n",
       "</table>\n",
       "<table class=\"simpletable\">\n",
       "<tr>\n",
       "  <th>Omnibus:</th>       <td> 0.992</td> <th>  Durbin-Watson:     </th> <td>   0.881</td>\n",
       "</tr>\n",
       "<tr>\n",
       "  <th>Prob(Omnibus):</th> <td> 0.609</td> <th>  Jarque-Bera (JB):  </th> <td>   0.795</td>\n",
       "</tr>\n",
       "<tr>\n",
       "  <th>Skew:</th>          <td> 0.534</td> <th>  Prob(JB):          </th> <td>   0.672</td>\n",
       "</tr>\n",
       "<tr>\n",
       "  <th>Kurtosis:</th>      <td> 2.124</td> <th>  Cond. No.          </th> <td>1.63e+05</td>\n",
       "</tr>\n",
       "</table><br/><br/>Warnings:<br/>[1] Standard Errors assume that the covariance matrix of the errors is correctly specified.<br/>[2] The condition number is large, 1.63e+05. This might indicate that there are<br/>strong multicollinearity or other numerical problems."
      ],
      "text/plain": [
       "<class 'statsmodels.iolib.summary.Summary'>\n",
       "\"\"\"\n",
       "                            OLS Regression Results                            \n",
       "==============================================================================\n",
       "Dep. Variable:                   新用户数   R-squared:                       0.938\n",
       "Model:                            OLS   Adj. R-squared:                  0.920\n",
       "Method:                 Least Squares   F-statistic:                     52.86\n",
       "Date:                Mon, 22 Jun 2020   Prob (F-statistic):           5.97e-05\n",
       "Time:                        22:31:50   Log-Likelihood:                -84.758\n",
       "No. Observations:                  10   AIC:                             175.5\n",
       "Df Residuals:                       7   BIC:                             176.4\n",
       "Df Model:                           2                                         \n",
       "Covariance Type:            nonrobust                                         \n",
       "==============================================================================\n",
       "                 coef    std err          t      P>|t|      [0.025      0.975]\n",
       "------------------------------------------------------------------------------\n",
       "const        188.1743   7719.131      0.024      0.981   -1.81e+04    1.84e+04\n",
       "电视广告费          1.3609      0.517      2.630      0.034       0.137       2.584\n",
       "杂志广告费          7.2498      1.693      4.283      0.004       3.247      11.252\n",
       "==============================================================================\n",
       "Omnibus:                        0.992   Durbin-Watson:                   0.881\n",
       "Prob(Omnibus):                  0.609   Jarque-Bera (JB):                0.795\n",
       "Skew:                           0.534   Prob(JB):                        0.672\n",
       "Kurtosis:                       2.124   Cond. No.                     1.63e+05\n",
       "==============================================================================\n",
       "\n",
       "Warnings:\n",
       "[1] Standard Errors assume that the covariance matrix of the errors is correctly specified.\n",
       "[2] The condition number is large, 1.63e+05. This might indicate that there are\n",
       "strong multicollinearity or other numerical problems.\n",
       "\"\"\""
      ]
     },
     "execution_count": 4,
     "metadata": {},
     "output_type": "execute_result"
    }
   ],
   "source": [
    "x = data.loc[:,['电视广告费','杂志广告费']]\n",
    "y = data['新用户数']\n",
    "x2 = sm.add_constant(x)\n",
    "est = sm.OLS(y,x2)\n",
    "est2 = est.fit()\n",
    "est2.summary()"
   ]
  },
  {
   "cell_type": "markdown",
   "metadata": {},
   "source": [
    "**● 多元回归模型的系数**"
   ]
  },
  {
   "cell_type": "code",
   "execution_count": 5,
   "metadata": {},
   "outputs": [
    {
     "data": {
      "text/html": [
       "<div>\n",
       "<style scoped>\n",
       "    .dataframe tbody tr th:only-of-type {\n",
       "        vertical-align: middle;\n",
       "    }\n",
       "\n",
       "    .dataframe tbody tr th {\n",
       "        vertical-align: top;\n",
       "    }\n",
       "\n",
       "    .dataframe thead th {\n",
       "        text-align: right;\n",
       "    }\n",
       "</style>\n",
       "<table border=\"1\" class=\"dataframe\">\n",
       "  <thead>\n",
       "    <tr style=\"text-align: right;\">\n",
       "      <th></th>\n",
       "      <th>系数</th>\n",
       "    </tr>\n",
       "  </thead>\n",
       "  <tbody>\n",
       "    <tr>\n",
       "      <th>const</th>\n",
       "      <td>188.174275</td>\n",
       "    </tr>\n",
       "    <tr>\n",
       "      <th>电视广告费</th>\n",
       "      <td>1.360921</td>\n",
       "    </tr>\n",
       "    <tr>\n",
       "      <th>杂志广告费</th>\n",
       "      <td>7.249809</td>\n",
       "    </tr>\n",
       "  </tbody>\n",
       "</table>\n",
       "</div>"
      ],
      "text/plain": [
       "               系数\n",
       "const  188.174275\n",
       "电视广告费    1.360921\n",
       "杂志广告费    7.249809"
      ]
     },
     "execution_count": 5,
     "metadata": {},
     "output_type": "execute_result"
    }
   ],
   "source": [
    "params = pd.DataFrame(est2.params).rename(columns={0:'系数'})\n",
    "params"
   ]
  },
  {
   "cell_type": "markdown",
   "metadata": {},
   "source": [
    "　　根据上表的输出结果，我们可以得到下述关系。  \n",
    "　　新用户数 = 1.361 × 电视广告费 + 7.250 × 杂志广告费 + 188.174  \n",
    "　　从上式可以看出，如果不投放广告，则每月新增的用户数为大约188 人。如果在电视广告上投入 1 日元，就能够获得 1 名新用户。在杂志广告上投入 1 日元，则可获得 7 名新用户。也就是说，通过杂志广告来获得新用户的效率要远远高于电视广告。  "
   ]
  },
  {
   "cell_type": "markdown",
   "metadata": {},
   "source": [
    "### 对多元回归模型的详细探讨"
   ]
  },
  {
   "cell_type": "markdown",
   "metadata": {},
   "source": [
    "　　对于上面的模型公式，我们再做进一步探讨。"
   ]
  },
  {
   "cell_type": "markdown",
   "metadata": {},
   "source": [
    "**① 残差的分布**"
   ]
  },
  {
   "cell_type": "code",
   "execution_count": 6,
   "metadata": {},
   "outputs": [
    {
     "data": {
      "text/html": [
       "<div>\n",
       "<style scoped>\n",
       "    .dataframe tbody tr th:only-of-type {\n",
       "        vertical-align: middle;\n",
       "    }\n",
       "\n",
       "    .dataframe tbody tr th {\n",
       "        vertical-align: top;\n",
       "    }\n",
       "\n",
       "    .dataframe thead th {\n",
       "        text-align: right;\n",
       "    }\n",
       "</style>\n",
       "<table border=\"1\" class=\"dataframe\">\n",
       "  <thead>\n",
       "    <tr style=\"text-align: right;\">\n",
       "      <th></th>\n",
       "      <th>最小值</th>\n",
       "      <th>第 1 四分位数</th>\n",
       "      <th>中值</th>\n",
       "      <th>第 3 四分位数</th>\n",
       "      <th>最大值</th>\n",
       "    </tr>\n",
       "  </thead>\n",
       "  <tbody>\n",
       "    <tr>\n",
       "      <th>0</th>\n",
       "      <td>-1406.871108</td>\n",
       "      <td>-984.488813</td>\n",
       "      <td>-12.109952</td>\n",
       "      <td>432.818096</td>\n",
       "      <td>1985.841421</td>\n",
       "    </tr>\n",
       "  </tbody>\n",
       "</table>\n",
       "</div>"
      ],
      "text/plain": [
       "           最小值    第 1 四分位数         中值    第 3 四分位数          最大值\n",
       "0 -1406.871108 -984.488813 -12.109952  432.818096  1985.841421"
      ]
     },
     "execution_count": 6,
     "metadata": {},
     "output_type": "execute_result"
    }
   ],
   "source": [
    "#获取各个y值的残差\n",
    "data_dict = {}\n",
    "yt, data1, ss2 = summary_table(est2, alpha=0.05) # 置信水平alpha=5%，st数据汇总，data1数据详情，ss2数据列名\n",
    "Residual = data1[:,8]\n",
    "data_dict['最小值'] = np.min(Residual)\n",
    "data_dict['第 1 四分位数'] = np.quantile(Residual,0.25)\n",
    "data_dict['中值'] = np.quantile(Residual,0.5)\n",
    "data_dict['第 3 四分位数'] = np.quantile(Residual,0.75)\n",
    "data_dict['最大值'] = np.max(Residual)\n",
    "data_dict = pd.DataFrame([data_dict])\n",
    "data_dict"
   ]
  },
  {
   "cell_type": "markdown",
   "metadata": {},
   "source": [
    "  残差（预测值和实际值之差）的分布用四分位数的方式来表示，据此可以判断数据是否存在异常偏差。"
   ]
  },
  {
   "cell_type": "markdown",
   "metadata": {},
   "source": [
    "**② 多元回归模型的系数**"
   ]
  },
  {
   "cell_type": "code",
   "execution_count": 101,
   "metadata": {},
   "outputs": [
    {
     "data": {
      "text/html": [
       "<div>\n",
       "<style scoped>\n",
       "    .dataframe tbody tr th:only-of-type {\n",
       "        vertical-align: middle;\n",
       "    }\n",
       "\n",
       "    .dataframe tbody tr th {\n",
       "        vertical-align: top;\n",
       "    }\n",
       "\n",
       "    .dataframe thead th {\n",
       "        text-align: right;\n",
       "    }\n",
       "</style>\n",
       "<table border=\"1\" class=\"dataframe\">\n",
       "  <thead>\n",
       "    <tr style=\"text-align: right;\">\n",
       "      <th></th>\n",
       "      <th>预估值</th>\n",
       "      <th>标准误差</th>\n",
       "      <th>t值</th>\n",
       "      <th>p值</th>\n",
       "    </tr>\n",
       "  </thead>\n",
       "  <tbody>\n",
       "    <tr>\n",
       "      <th>const</th>\n",
       "      <td>188.174275</td>\n",
       "      <td>0.024378</td>\n",
       "      <td>0.981232</td>\n",
       "      <td>7719.130841</td>\n",
       "    </tr>\n",
       "    <tr>\n",
       "      <th>电视广告费</th>\n",
       "      <td>1.360921</td>\n",
       "      <td>2.630156</td>\n",
       "      <td>0.033905</td>\n",
       "      <td>0.517430</td>\n",
       "    </tr>\n",
       "    <tr>\n",
       "      <th>杂志广告费</th>\n",
       "      <td>7.249809</td>\n",
       "      <td>4.283126</td>\n",
       "      <td>0.003641</td>\n",
       "      <td>1.692644</td>\n",
       "    </tr>\n",
       "  </tbody>\n",
       "</table>\n",
       "</div>"
      ],
      "text/plain": [
       "              预估值      标准误差        t值           p值\n",
       "const  188.174275  0.024378  0.981232  7719.130841\n",
       "电视广告费    1.360921  2.630156  0.033905     0.517430\n",
       "杂志广告费    7.249809  4.283126  0.003641     1.692644"
      ]
     },
     "execution_count": 101,
     "metadata": {},
     "output_type": "execute_result"
    }
   ],
   "source": [
    "\n",
    "df = pd.DataFrame({'预估值':est2.params\n",
    "                  ,'标准误差': est2.tvalues\n",
    "                  ,'t值': est2.pvalues\n",
    "                  ,'p值': est2.bse}\n",
    "                 )\n",
    "\n",
    "df"
   ]
  },
  {
   "cell_type": "markdown",
   "metadata": {},
   "source": [
    "　　上表总结了预估得到的常数项和斜率等数据。每一行的数据分别是预估值、标准误差、t 值、p 值，据此可以得知每个属性相应的斜率是多少，以及是否具有统计学意义。"
   ]
  },
  {
   "cell_type": "markdown",
   "metadata": {},
   "source": [
    "**③ 判定系数和自由度校正判定系数**"
   ]
  },
  {
   "cell_type": "markdown",
   "metadata": {},
   "source": [
    "　　**判定系数：0.938，自由度校正判定系数：0.92**  \n",
    "　　判定系数越接近于 1，表示这个模型拟合得越好。  \n",
    "　　观察①中的残差分布，我们发现，第 1 四分位数的绝对值要大于第3 四分位数的绝对值，这说明某些数据点的分布存在偏差，但由于③中自由度校正判定系数的值较高，因此现在的广告投放策略应该是没有问题的。"
   ]
  },
  {
   "cell_type": "markdown",
   "metadata": {},
   "source": [
    "## 解决对策"
   ]
  },
  {
   "cell_type": "markdown",
   "metadata": {},
   "source": [
    "　　本例中我们围绕如下问题进行了分析。  \n",
    "　　**1. 通过各种传统媒体广告所获得的新用户数不尽相同 （事实）**  \n",
    "　　**2. 每月获得的新用户数与在电视和杂志上的广告投放比例相关（假设）**  \n",
    "　　**3. 把握电视广告费和杂志广告费各自与获得的新用户数之间的关系**  \n",
    "　　**4. 基于这种关系，确定一个最佳的广告分配比例**  \n",
    "　　基于上述问题设定，我们使用多元回归分析推导出了传统媒体广告和新用户数之间的关系，如下所示。  \n",
    "　　新用户数 = 1.361× 电视广告费 + 7.250× 杂志广告费 + 188.174  \n",
    "　　从上式可以看出，相比于电视广告，杂志广告的效果要更好一些。即便采取只投放杂志广告而不投放电视广告的极端行为，效果也不会太差。但是上述公式毕竟只是基于本例中的数据计算得出的，对于超出本  例数据范围的值则不适用。\n",
    "　　另外，如前所述，为了维持和广告公司的合作关系，我们不会对任何一家广告媒体连续 3 个月不投放任何广告。  \n",
    "　　因此，这回我们将按照下述比例来分配广告费用。  \n",
    "　　**电视广告：4200 万日元**  \n",
    "　　**杂志广告：7500 万日元**  \n",
    "　　根据上面的计算公式，我们可以得到如下结果。  \n",
    "　　**60279 人 = 1.361×（4200 万日元） + 7.250 ×（7500 万日元）+ 188.174**  \n",
    "　　也就是说，我们预期可以获得大约 6 万的新用户。  "
   ]
  },
  {
   "cell_type": "markdown",
   "metadata": {},
   "source": [
    "## 小结"
   ]
  },
  {
   "cell_type": "markdown",
   "metadata": {
    "ExecuteTime": {
     "end_time": "2019-08-14T17:08:05.758524Z",
     "start_time": "2019-08-14T17:08:05.753538Z"
    }
   },
   "source": [
    "　　本章介绍了数据分析中的多元回归分析。  \n",
    "　　对于那些成本较高的问题，该方法可用于最优化其效益成本比。尤其在商业领域，大家一般都更关注成本较高的事情，哪怕只提升了少许的效果，对于整体来说也可能起到很大的作用。这种情况下最适合使用多元回归分析，该方法能够预测出每种策略应该占多大比重。  \n",
    "　　在事前能预测大部分结果，且在实施阶段需要耗费高成本的情况下，多元回归分析是不二的选择。　　"
   ]
  },
  {
   "cell_type": "markdown",
   "metadata": {},
   "source": [
    "|分析流程|第6章中数据分析的成本|\n",
    "|:-:|:-:|\n",
    "|现状和预期|低|\n",
    "|发现问题|低|\n",
    "|数据的收集和加工|低|\n",
    "|数据分析|中|\n",
    "|解决对策|低|"
   ]
  },
  {
   "cell_type": "markdown",
   "metadata": {
    "ExecuteTime": {
     "end_time": "2019-08-14T16:39:56.212023Z",
     "start_time": "2019-08-14T16:39:56.208034Z"
    }
   },
   "source": [
    "## 注：\n",
    "&#160; &#160;本文文字内容主要来源于书籍：《数据分析实战》 [日] 酒卷隆志 里洋平/著 肖峰/译  \n",
    "&#160; &#160;本文代码是自己手打的  \n",
    "&#160; &#160;本文github地址：https://github.com/qq1044645270/data_analysis "
   ]
  }
 ],
 "metadata": {
  "hide_input": false,
  "kernelspec": {
   "display_name": "python3.6.5",
   "language": "python",
   "name": "python3.6.5"
  },
  "language_info": {
   "codemirror_mode": {
    "name": "ipython",
    "version": 3
   },
   "file_extension": ".py",
   "mimetype": "text/x-python",
   "name": "python",
   "nbconvert_exporter": "python",
   "pygments_lexer": "ipython3",
   "version": "3.6.5"
  },
  "toc": {
   "base_numbering": 1,
   "nav_menu": {},
   "number_sections": true,
   "sideBar": true,
   "skip_h1_title": false,
   "title_cell": "Table of Contents",
   "title_sidebar": "Contents",
   "toc_cell": false,
   "toc_position": {
    "height": "calc(100% - 180px)",
    "left": "10px",
    "top": "150px",
    "width": "299.854px"
   },
   "toc_section_display": true,
   "toc_window_display": true
  },
  "varInspector": {
   "cols": {
    "lenName": 16,
    "lenType": 16,
    "lenVar": 40
   },
   "kernels_config": {
    "python": {
     "delete_cmd_postfix": "",
     "delete_cmd_prefix": "del ",
     "library": "var_list.py",
     "varRefreshCmd": "print(var_dic_list())"
    },
    "r": {
     "delete_cmd_postfix": ") ",
     "delete_cmd_prefix": "rm(",
     "library": "var_list.r",
     "varRefreshCmd": "cat(var_dic_list()) "
    }
   },
   "position": {
    "height": "314.667px",
    "left": "1325.33px",
    "right": "20px",
    "top": "120px",
    "width": "350px"
   },
   "types_to_exclude": [
    "module",
    "function",
    "builtin_function_or_method",
    "instance",
    "_Feature"
   ],
   "window_display": false
  }
 },
 "nbformat": 4,
 "nbformat_minor": 2
}
